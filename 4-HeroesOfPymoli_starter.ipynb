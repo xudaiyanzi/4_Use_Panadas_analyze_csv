{
 "cells": [
  {
   "cell_type": "markdown",
   "metadata": {},
   "source": [
    "### Heroes Of Pymoli Data Analysis\n",
    "* Of the 1163 active players, the vast majority are male (84%). There also exists, a smaller, but notable proportion of female players (14%).\n",
    "\n",
    "* Our peak age demographic falls between 20-24 (44.8%) with secondary groups falling between 15-19 (18.60%) and 25-29 (13.4%).  \n",
    "-----"
   ]
  },
  {
   "cell_type": "markdown",
   "metadata": {},
   "source": [
    "### Note\n",
    "* Instructions have been included for each segment. You do not have to follow them exactly, but they are included to help you think through the steps."
   ]
  },
  {
   "cell_type": "code",
   "execution_count": 1,
   "metadata": {},
   "outputs": [],
   "source": [
    "# Dependencies and Setup\n",
    "import pandas as pd\n",
    "import numpy as np\n",
    "\n",
    "# File to Load (Remember to Change These)\n",
    "file_to_load = \"purchase_data.csv\"\n",
    "\n",
    "# Read Purchasing File and store into Pandas data frame\n",
    "purchase_data = pd.read_csv(file_to_load)"
   ]
  },
  {
   "cell_type": "markdown",
   "metadata": {},
   "source": [
    "## Player Count"
   ]
  },
  {
   "cell_type": "markdown",
   "metadata": {},
   "source": [
    "* Display the total number of players\n"
   ]
  },
  {
   "cell_type": "code",
   "execution_count": 2,
   "metadata": {},
   "outputs": [
    {
     "data": {
      "text/plain": [
       "Purchase ID    780\n",
       "SN             780\n",
       "Age            780\n",
       "Gender         780\n",
       "Item ID        780\n",
       "Item Name      780\n",
       "Price          780\n",
       "dtype: int64"
      ]
     },
     "execution_count": 2,
     "metadata": {},
     "output_type": "execute_result"
    }
   ],
   "source": [
    "# First, we should check the whether the data needs to be clean\n",
    "overview = purchase_data.count()\n",
    "overview\n",
    "\n",
    "## from the result, we know that the data is cleaned"
   ]
  },
  {
   "cell_type": "code",
   "execution_count": 3,
   "metadata": {},
   "outputs": [
    {
     "name": "stdout",
     "output_type": "stream",
     "text": [
      "totalPlay =  576\n"
     ]
    }
   ],
   "source": [
    "# Second, we should see whether the dataset has repeated player name, if so, we could not use \"count()\" commond\n",
    "#### here, we need to use value_counts() to check the repeated data\n",
    "Unique_Name_Check = purchase_data[\"SN\"].value_counts()\n",
    "totalPlayers = len(Unique_Name_Check)\n",
    "print(\"totalPlay = \", totalPlayers)"
   ]
  },
  {
   "cell_type": "code",
   "execution_count": 4,
   "metadata": {},
   "outputs": [
    {
     "data": {
      "text/html": [
       "<div>\n",
       "<style scoped>\n",
       "    .dataframe tbody tr th:only-of-type {\n",
       "        vertical-align: middle;\n",
       "    }\n",
       "\n",
       "    .dataframe tbody tr th {\n",
       "        vertical-align: top;\n",
       "    }\n",
       "\n",
       "    .dataframe thead th {\n",
       "        text-align: right;\n",
       "    }\n",
       "</style>\n",
       "<table border=\"1\" class=\"dataframe\">\n",
       "  <thead>\n",
       "    <tr style=\"text-align: right;\">\n",
       "      <th></th>\n",
       "      <th>Total Players</th>\n",
       "    </tr>\n",
       "  </thead>\n",
       "  <tbody>\n",
       "    <tr>\n",
       "      <th>0</th>\n",
       "      <td>576</td>\n",
       "    </tr>\n",
       "  </tbody>\n",
       "</table>\n",
       "</div>"
      ],
      "text/plain": [
       "   Total Players\n",
       "0            576"
      ]
     },
     "execution_count": 4,
     "metadata": {},
     "output_type": "execute_result"
    }
   ],
   "source": [
    "## finally, place all of the data found into a summary DataFrame\n",
    "totalPlayersTable = pd.DataFrame({\"Total Players\": [totalPlayers]})\n",
    "totalPlayersTable"
   ]
  },
  {
   "cell_type": "markdown",
   "metadata": {},
   "source": [
    "## Purchasing Analysis (Total)"
   ]
  },
  {
   "cell_type": "markdown",
   "metadata": {},
   "source": [
    "* Run basic calculations to obtain number of unique items, average price, etc.\n",
    "\n",
    "\n",
    "* Create a summary data frame to hold the results\n",
    "\n",
    "\n",
    "* Optional: give the displayed data cleaner formatting\n",
    "\n",
    "\n",
    "* Display the summary data frame\n"
   ]
  },
  {
   "cell_type": "code",
   "execution_count": 5,
   "metadata": {
    "scrolled": true
   },
   "outputs": [
    {
     "name": "stdout",
     "output_type": "stream",
     "text": [
      "total number of unique items are 179\n"
     ]
    }
   ],
   "source": [
    "# First, we get the number of unique purchased items\n",
    "number_of_unique_items = purchase_data[\"Item Name\"].nunique()\n",
    "print(\"total number of unique items are\", number_of_unique_items)"
   ]
  },
  {
   "cell_type": "code",
   "execution_count": 6,
   "metadata": {},
   "outputs": [
    {
     "name": "stdout",
     "output_type": "stream",
     "text": [
      "average price for all the items is $ 3.050987179487176\n"
     ]
    }
   ],
   "source": [
    "# Second, we get the average price\n",
    "average_price = purchase_data[\"Price\"].mean()\n",
    "print(\"average price for all the items is $\",average_price)"
   ]
  },
  {
   "cell_type": "code",
   "execution_count": 7,
   "metadata": {},
   "outputs": [
    {
     "name": "stdout",
     "output_type": "stream",
     "text": [
      "total number of purchase is 780\n"
     ]
    }
   ],
   "source": [
    "# Third, we get the number of Purchases - I think it means how many the purchases had happened in total\n",
    "number_of_purchases = purchase_data[\"Purchase ID\"].count()\n",
    "print(\"total number of purchase is\",number_of_purchases)"
   ]
  },
  {
   "cell_type": "code",
   "execution_count": 8,
   "metadata": {},
   "outputs": [
    {
     "name": "stdout",
     "output_type": "stream",
     "text": [
      "total revenue is $ 2379.77\n"
     ]
    }
   ],
   "source": [
    "# Third, we get the number of Purchases - I think it means how many the purchases had happened in total\n",
    "total_revenue = purchase_data[\"Price\"].sum()\n",
    "print(\"total revenue is $\", total_revenue)"
   ]
  },
  {
   "cell_type": "code",
   "execution_count": 9,
   "metadata": {},
   "outputs": [
    {
     "data": {
      "text/html": [
       "<div>\n",
       "<style scoped>\n",
       "    .dataframe tbody tr th:only-of-type {\n",
       "        vertical-align: middle;\n",
       "    }\n",
       "\n",
       "    .dataframe tbody tr th {\n",
       "        vertical-align: top;\n",
       "    }\n",
       "\n",
       "    .dataframe thead th {\n",
       "        text-align: right;\n",
       "    }\n",
       "</style>\n",
       "<table border=\"1\" class=\"dataframe\">\n",
       "  <thead>\n",
       "    <tr style=\"text-align: right;\">\n",
       "      <th></th>\n",
       "      <th>Number of Unique Items</th>\n",
       "      <th>Average Price</th>\n",
       "      <th>Number of Purchases</th>\n",
       "      <th>Total Revenue</th>\n",
       "    </tr>\n",
       "  </thead>\n",
       "  <tbody>\n",
       "    <tr>\n",
       "      <th>0</th>\n",
       "      <td>179</td>\n",
       "      <td>$3.05</td>\n",
       "      <td>780</td>\n",
       "      <td>$2,379.77</td>\n",
       "    </tr>\n",
       "  </tbody>\n",
       "</table>\n",
       "</div>"
      ],
      "text/plain": [
       "   Number of Unique Items Average Price  Number of Purchases Total Revenue\n",
       "0                     179         $3.05                  780     $2,379.77"
      ]
     },
     "execution_count": 9,
     "metadata": {},
     "output_type": "execute_result"
    }
   ],
   "source": [
    "## fourth, place all of the data found into a summary DataFrame\n",
    "totalPurchaseAnalysis = pd.DataFrame({\"Number of Unique Items\": [number_of_unique_items],\n",
    "                                      \"Average Price\" : [average_price],\n",
    "                                      \"Number of Purchases\" : [number_of_purchases],\n",
    "                                      \"Total Revenue\" : [total_revenue]})\n",
    "### and then, fomat the columns\n",
    "totalPurchaseAnalysis[\"Average Price\"] = totalPurchaseAnalysis[\"Average Price\"].map('${:,.2f}'.format)\n",
    "totalPurchaseAnalysis[\"Total Revenue\"] = totalPurchaseAnalysis[\"Total Revenue\"].map('${:,}'.format)\n",
    "totalPurchaseAnalysis"
   ]
  },
  {
   "cell_type": "markdown",
   "metadata": {},
   "source": [
    "## Gender Demographics"
   ]
  },
  {
   "cell_type": "markdown",
   "metadata": {},
   "source": [
    "* Percentage and Count of Male Players\n",
    "\n",
    "\n",
    "* Percentage and Count of Female Players\n",
    "\n",
    "\n",
    "* Percentage and Count of Other / Non-Disclosed\n",
    "\n",
    "\n"
   ]
  },
  {
   "cell_type": "code",
   "execution_count": 10,
   "metadata": {},
   "outputs": [
    {
     "name": "stdout",
     "output_type": "stream",
     "text": [
      "totalPlayers =  576\n"
     ]
    }
   ],
   "source": [
    "# First, as we mentioned before there are repeated players\n",
    "### we also got the total player = 576\n",
    "player_group = purchase_data.groupby([\"SN\"])\n",
    "totalPlayers = len(player_group.count())\n",
    "print(\"totalPlayers = \",totalPlayers)"
   ]
  },
  {
   "cell_type": "code",
   "execution_count": 11,
   "metadata": {},
   "outputs": [
    {
     "name": "stdout",
     "output_type": "stream",
     "text": [
      "MaleCount = 484\n",
      "MalePerc = 84.03 %\n"
     ]
    }
   ],
   "source": [
    "# Second, find the unique male count and percentage\n",
    "male_repeat = purchase_data.loc[purchase_data[\"Gender\"] == \"Male\",:]\n",
    "male_unique = male_repeat.groupby([\"SN\"])\n",
    "MaleCount = len(male_unique.count())\n",
    "\n",
    "## and find the male percentage\n",
    "male_perc = MaleCount/totalPlayers*100\n",
    "MalePerc = round(male_perc,2)\n",
    "\n",
    "print(\"MaleCount =\", MaleCount)\n",
    "print(\"MalePerc =\", MalePerc,\"%\")"
   ]
  },
  {
   "cell_type": "code",
   "execution_count": 12,
   "metadata": {},
   "outputs": [
    {
     "name": "stdout",
     "output_type": "stream",
     "text": [
      "FemaleCount = 81\n",
      "FemalePerc = 14.06 %\n"
     ]
    }
   ],
   "source": [
    "# Third, we find the \"Female\" counts and percentage\n",
    "female_repeat = purchase_data.loc[purchase_data[\"Gender\"] == \"Female\",:]\n",
    "female_unique = female_repeat.groupby([\"SN\"])\n",
    "FemaleCount = len(female_unique.count())\n",
    "\n",
    "## and find the female percentage\n",
    "female_perc = FemaleCount/totalPlayers*100\n",
    "FemalePerc = round(female_perc,2)\n",
    "\n",
    "print(\"FemaleCount =\",FemaleCount)\n",
    "print(\"FemalePerc =\",FemalePerc,\"%\")"
   ]
  },
  {
   "cell_type": "code",
   "execution_count": 13,
   "metadata": {},
   "outputs": [
    {
     "name": "stdout",
     "output_type": "stream",
     "text": [
      "OtherCount = 11\n",
      "OtherPerc = 1.91 %\n"
     ]
    }
   ],
   "source": [
    "# Fourth, we find \"Other/Non-Disclosed\" counts and percentage\n",
    "Other_repeat = purchase_data.loc[purchase_data[\"Gender\"] == \"Other / Non-Disclosed\",:]\n",
    "Other_unique = Other_repeat.groupby([\"SN\"])\n",
    "OtherCount = len(Other_unique.count())\n",
    "\n",
    "## and find the female percentage\n",
    "other_perc = OtherCount/totalPlayers*100\n",
    "OtherPerc = round(other_perc,2)\n",
    "\n",
    "print(\"OtherCount =\",OtherCount)\n",
    "print(\"OtherPerc =\",OtherPerc, \"%\")"
   ]
  },
  {
   "cell_type": "code",
   "execution_count": 14,
   "metadata": {},
   "outputs": [
    {
     "data": {
      "text/html": [
       "<div>\n",
       "<style scoped>\n",
       "    .dataframe tbody tr th:only-of-type {\n",
       "        vertical-align: middle;\n",
       "    }\n",
       "\n",
       "    .dataframe tbody tr th {\n",
       "        vertical-align: top;\n",
       "    }\n",
       "\n",
       "    .dataframe thead th {\n",
       "        text-align: right;\n",
       "    }\n",
       "</style>\n",
       "<table border=\"1\" class=\"dataframe\">\n",
       "  <thead>\n",
       "    <tr style=\"text-align: right;\">\n",
       "      <th></th>\n",
       "      <th>Total Count</th>\n",
       "      <th>Percentage of Players</th>\n",
       "    </tr>\n",
       "  </thead>\n",
       "  <tbody>\n",
       "    <tr>\n",
       "      <th>Male</th>\n",
       "      <td>484</td>\n",
       "      <td>84.03</td>\n",
       "    </tr>\n",
       "    <tr>\n",
       "      <th>Female</th>\n",
       "      <td>81</td>\n",
       "      <td>14.06</td>\n",
       "    </tr>\n",
       "    <tr>\n",
       "      <th>Other/Non-Disclosed</th>\n",
       "      <td>11</td>\n",
       "      <td>1.91</td>\n",
       "    </tr>\n",
       "  </tbody>\n",
       "</table>\n",
       "</div>"
      ],
      "text/plain": [
       "                     Total Count  Percentage of Players\n",
       "Male                         484                  84.03\n",
       "Female                        81                  14.06\n",
       "Other/Non-Disclosed           11                   1.91"
      ]
     },
     "execution_count": 14,
     "metadata": {},
     "output_type": "execute_result"
    }
   ],
   "source": [
    "## fifth, place all of the data found into a summary DataFrame\n",
    "totalGenderAnalysis = pd.DataFrame({\"Total Count\": [MaleCount, FemaleCount, OtherCount],\n",
    "                                    \"Percentage of Players\" : [MalePerc, FemalePerc, OtherPerc]})\n",
    "totalGenderAnalysis.set_index([[\"Male\",\"Female\",\"Other/Non-Disclosed\"]])"
   ]
  },
  {
   "cell_type": "markdown",
   "metadata": {},
   "source": [
    "\n",
    "## Purchasing Analysis (Gender)"
   ]
  },
  {
   "cell_type": "markdown",
   "metadata": {},
   "source": [
    "* Run basic calculations to obtain purchase count, avg. purchase price, avg. purchase total per person etc. by gender\n",
    "\n",
    "\n",
    "\n",
    "\n",
    "* Create a summary data frame to hold the results\n",
    "\n",
    "\n",
    "* Optional: give the displayed data cleaner formatting\n",
    "\n",
    "\n",
    "* Display the summary data frame"
   ]
  },
  {
   "cell_type": "code",
   "execution_count": 15,
   "metadata": {},
   "outputs": [],
   "source": [
    "#  At the beginning, we should know \n",
    "## Different from previous analysis, we need not to worry about the repeated name\n",
    "### we should know the purchase is unique no matter perfomed by the same person or not\n",
    "male_purchase = purchase_data.loc[purchase_data[\"Gender\"] == \"Male\",:]\n",
    "female_purchase = purchase_data.loc[purchase_data[\"Gender\"] == \"Female\",:]\n",
    "other_purchase = purchase_data.loc[purchase_data[\"Gender\"] == \"Other / Non-Disclosed\",:]"
   ]
  },
  {
   "cell_type": "code",
   "execution_count": 16,
   "metadata": {},
   "outputs": [
    {
     "name": "stdout",
     "output_type": "stream",
     "text": [
      "malePurchaseCount =  652\n",
      "femalePurchaseCount =  113\n",
      "otherPurchaseCount =  15\n"
     ]
    }
   ],
   "source": [
    "## Second, count the purchase by gender\n",
    "malePurchaseCount = male_purchase[\"Purchase ID\"].count()\n",
    "femalePurchaseCount = female_purchase[\"Purchase ID\"].count()\n",
    "otherPurchaseCount = other_purchase[\"Purchase ID\"].count()\n",
    "\n",
    "print(\"malePurchaseCount = \",malePurchaseCount)\n",
    "print(\"femalePurchaseCount = \",femalePurchaseCount)\n",
    "print(\"otherPurchaseCount = \",otherPurchaseCount)"
   ]
  },
  {
   "cell_type": "code",
   "execution_count": 17,
   "metadata": {},
   "outputs": [
    {
     "name": "stdout",
     "output_type": "stream",
     "text": [
      "average price for male purchase is $ 3.0178527607361953\n",
      "average price for female purchase is $ 3.203008849557519\n",
      "average price for other purchase is $ 3.3460000000000005\n"
     ]
    }
   ],
   "source": [
    "## Third, average price for each gender purchase\n",
    "maleAveragePrice = male_purchase[\"Price\"].mean()\n",
    "femaleAveragePrice = female_purchase[\"Price\"].mean()\n",
    "otherAveragePrice = other_purchase[\"Price\"].mean()\n",
    "\n",
    "print(\"average price for male purchase is $\",maleAveragePrice)\n",
    "print(\"average price for female purchase is $\",femaleAveragePrice)\n",
    "print(\"average price for other purchase is $\",otherAveragePrice)"
   ]
  },
  {
   "cell_type": "code",
   "execution_count": 18,
   "metadata": {},
   "outputs": [
    {
     "name": "stdout",
     "output_type": "stream",
     "text": [
      "total value for male purchase is $ 1967.64\n",
      "total value for female purchase is $ 361.94\n",
      "total value for other purchase is $ 50.19\n"
     ]
    }
   ],
   "source": [
    "## Fourth, total purchase value for each gender purchase\n",
    "maleTotalPurchaseValue = male_purchase[\"Price\"].sum()\n",
    "femaleTotalPurchaseValue = female_purchase[\"Price\"].sum()\n",
    "otherTotalPurchaseValue = other_purchase[\"Price\"].sum()\n",
    "\n",
    "print(\"total value for male purchase is $\",maleTotalPurchaseValue)\n",
    "print(\"total value for female purchase is $\",femaleTotalPurchaseValue)\n",
    "print(\"total value for other purchase is $\",otherTotalPurchaseValue)"
   ]
  },
  {
   "cell_type": "code",
   "execution_count": 19,
   "metadata": {},
   "outputs": [
    {
     "name": "stdout",
     "output_type": "stream",
     "text": [
      "avg. purchase total per unique male is $ 4.065371900826446\n",
      "avg. purchase total per unique female is $ 4.468395061728395\n",
      "avg. purchase total per unique other is $ 4.5627272727272725\n"
     ]
    }
   ],
   "source": [
    "## Fifth, avg. purchase total per person\n",
    "average_per_unique_male = maleTotalPurchaseValue/MaleCount\n",
    "average_per_unique_female = femaleTotalPurchaseValue/FemaleCount\n",
    "average_per_unique_other = otherTotalPurchaseValue/OtherCount\n",
    "\n",
    "print(\"avg. purchase total per unique male is $\",average_per_unique_male)\n",
    "print(\"avg. purchase total per unique female is $\",average_per_unique_female)\n",
    "print(\"avg. purchase total per unique other is $\",average_per_unique_other)"
   ]
  },
  {
   "cell_type": "code",
   "execution_count": 20,
   "metadata": {},
   "outputs": [
    {
     "data": {
      "text/html": [
       "<div>\n",
       "<style scoped>\n",
       "    .dataframe tbody tr th:only-of-type {\n",
       "        vertical-align: middle;\n",
       "    }\n",
       "\n",
       "    .dataframe tbody tr th {\n",
       "        vertical-align: top;\n",
       "    }\n",
       "\n",
       "    .dataframe thead th {\n",
       "        text-align: right;\n",
       "    }\n",
       "</style>\n",
       "<table border=\"1\" class=\"dataframe\">\n",
       "  <thead>\n",
       "    <tr style=\"text-align: right;\">\n",
       "      <th></th>\n",
       "      <th>Purchase Count</th>\n",
       "      <th>Average Purchase Price</th>\n",
       "      <th>Total Purchases Value</th>\n",
       "      <th>Average Total Purchase per Person</th>\n",
       "    </tr>\n",
       "    <tr>\n",
       "      <th>Gender</th>\n",
       "      <th></th>\n",
       "      <th></th>\n",
       "      <th></th>\n",
       "      <th></th>\n",
       "    </tr>\n",
       "  </thead>\n",
       "  <tbody>\n",
       "    <tr>\n",
       "      <th>Male</th>\n",
       "      <td>652</td>\n",
       "      <td>$3.02</td>\n",
       "      <td>$1,967.64</td>\n",
       "      <td>$4.07</td>\n",
       "    </tr>\n",
       "    <tr>\n",
       "      <th>Female</th>\n",
       "      <td>113</td>\n",
       "      <td>$3.20</td>\n",
       "      <td>$361.94</td>\n",
       "      <td>$4.47</td>\n",
       "    </tr>\n",
       "    <tr>\n",
       "      <th>Other/Non-Disclosed</th>\n",
       "      <td>15</td>\n",
       "      <td>$3.35</td>\n",
       "      <td>$50.19</td>\n",
       "      <td>$4.56</td>\n",
       "    </tr>\n",
       "  </tbody>\n",
       "</table>\n",
       "</div>"
      ],
      "text/plain": [
       "                     Purchase Count Average Purchase Price  \\\n",
       "Gender                                                       \n",
       "Male                            652                  $3.02   \n",
       "Female                          113                  $3.20   \n",
       "Other/Non-Disclosed              15                  $3.35   \n",
       "\n",
       "                    Total Purchases Value Average Total Purchase per Person  \n",
       "Gender                                                                       \n",
       "Male                            $1,967.64                             $4.07  \n",
       "Female                            $361.94                             $4.47  \n",
       "Other/Non-Disclosed                $50.19                             $4.56  "
      ]
     },
     "execution_count": 20,
     "metadata": {},
     "output_type": "execute_result"
    }
   ],
   "source": [
    "## finally, place all of the data found into a summary DataFrame\n",
    "PurchaseByGenderAnalysis = pd.DataFrame({\"Purchase Count\": [malePurchaseCount,femalePurchaseCount,otherPurchaseCount],\n",
    "                                         \"Average Purchase Price\" : [maleAveragePrice,femaleAveragePrice,otherAveragePrice],\n",
    "                                         \"Total Purchases Value\" : [maleTotalPurchaseValue,femaleTotalPurchaseValue,otherTotalPurchaseValue],\n",
    "                                         \"Average Total Purchase per Person\" : [average_per_unique_male,average_per_unique_female,average_per_unique_other],\n",
    "                                         # I also add \"Gender\" which will be set as index later on\n",
    "                                         \"Gender\" : [\"Male\",\"Female\",\"Other/Non-Disclosed\"]})\n",
    "### and then, fomat the columns\n",
    "PurchaseByGenderAnalysis[\"Average Purchase Price\"] = PurchaseByGenderAnalysis[\"Average Purchase Price\"].map('${:,.2f}'.format)\n",
    "PurchaseByGenderAnalysis[\"Total Purchases Value\"] = PurchaseByGenderAnalysis[\"Total Purchases Value\"].map('${:,}'.format)\n",
    "PurchaseByGenderAnalysis[\"Average Total Purchase per Person\"] = PurchaseByGenderAnalysis[\"Average Total Purchase per Person\"].map('${:,.2f}'.format)\n",
    "\n",
    "#### set index\n",
    "PurchaseByGenderAnalysis.set_index(\"Gender\")"
   ]
  },
  {
   "cell_type": "markdown",
   "metadata": {},
   "source": [
    "## Age Demographics"
   ]
  },
  {
   "cell_type": "markdown",
   "metadata": {},
   "source": [
    "* Establish bins for ages\n",
    "\n",
    "\n",
    "* Categorize the existing players using the age bins. Hint: use pd.cut()\n",
    "\n",
    "\n",
    "* Calculate the numbers and percentages by age group\n",
    "\n",
    "\n",
    "* Create a summary data frame to hold the results\n",
    "\n",
    "\n",
    "* Optional: round the percentage column to two decimal points\n",
    "\n",
    "\n",
    "* Display Age Demographics Table\n"
   ]
  },
  {
   "cell_type": "code",
   "execution_count": 21,
   "metadata": {},
   "outputs": [
    {
     "data": {
      "text/plain": [
       "count    780.000000\n",
       "mean      22.714103\n",
       "std        6.659444\n",
       "min        7.000000\n",
       "25%       20.000000\n",
       "50%       22.000000\n",
       "75%       25.000000\n",
       "max       45.000000\n",
       "Name: Age, dtype: float64"
      ]
     },
     "execution_count": 21,
     "metadata": {},
     "output_type": "execute_result"
    }
   ],
   "source": [
    "## First, use the \"describe\" to know the range of age\n",
    "purchase_data[\"Age\"].describe()"
   ]
  },
  {
   "cell_type": "code",
   "execution_count": 22,
   "metadata": {},
   "outputs": [
    {
     "data": {
      "text/html": [
       "<div>\n",
       "<style scoped>\n",
       "    .dataframe tbody tr th:only-of-type {\n",
       "        vertical-align: middle;\n",
       "    }\n",
       "\n",
       "    .dataframe tbody tr th {\n",
       "        vertical-align: top;\n",
       "    }\n",
       "\n",
       "    .dataframe thead th {\n",
       "        text-align: right;\n",
       "    }\n",
       "</style>\n",
       "<table border=\"1\" class=\"dataframe\">\n",
       "  <thead>\n",
       "    <tr style=\"text-align: right;\">\n",
       "      <th></th>\n",
       "      <th>Purchase ID</th>\n",
       "      <th>SN</th>\n",
       "      <th>Age</th>\n",
       "      <th>Gender</th>\n",
       "      <th>Item ID</th>\n",
       "      <th>Item Name</th>\n",
       "      <th>Price</th>\n",
       "      <th>Age Summary</th>\n",
       "    </tr>\n",
       "  </thead>\n",
       "  <tbody>\n",
       "    <tr>\n",
       "      <th>0</th>\n",
       "      <td>0</td>\n",
       "      <td>Lisim78</td>\n",
       "      <td>20</td>\n",
       "      <td>Male</td>\n",
       "      <td>108</td>\n",
       "      <td>Extraction, Quickblade Of Trembling Hands</td>\n",
       "      <td>3.53</td>\n",
       "      <td>20-24</td>\n",
       "    </tr>\n",
       "    <tr>\n",
       "      <th>1</th>\n",
       "      <td>1</td>\n",
       "      <td>Lisovynya38</td>\n",
       "      <td>40</td>\n",
       "      <td>Male</td>\n",
       "      <td>143</td>\n",
       "      <td>Frenzied Scimitar</td>\n",
       "      <td>1.56</td>\n",
       "      <td>40+</td>\n",
       "    </tr>\n",
       "    <tr>\n",
       "      <th>2</th>\n",
       "      <td>2</td>\n",
       "      <td>Ithergue48</td>\n",
       "      <td>24</td>\n",
       "      <td>Male</td>\n",
       "      <td>92</td>\n",
       "      <td>Final Critic</td>\n",
       "      <td>4.88</td>\n",
       "      <td>20-24</td>\n",
       "    </tr>\n",
       "    <tr>\n",
       "      <th>3</th>\n",
       "      <td>3</td>\n",
       "      <td>Chamassasya86</td>\n",
       "      <td>24</td>\n",
       "      <td>Male</td>\n",
       "      <td>100</td>\n",
       "      <td>Blindscythe</td>\n",
       "      <td>3.27</td>\n",
       "      <td>20-24</td>\n",
       "    </tr>\n",
       "    <tr>\n",
       "      <th>4</th>\n",
       "      <td>4</td>\n",
       "      <td>Iskosia90</td>\n",
       "      <td>23</td>\n",
       "      <td>Male</td>\n",
       "      <td>131</td>\n",
       "      <td>Fury</td>\n",
       "      <td>1.44</td>\n",
       "      <td>20-24</td>\n",
       "    </tr>\n",
       "  </tbody>\n",
       "</table>\n",
       "</div>"
      ],
      "text/plain": [
       "   Purchase ID             SN  Age Gender  Item ID  \\\n",
       "0            0        Lisim78   20   Male      108   \n",
       "1            1    Lisovynya38   40   Male      143   \n",
       "2            2     Ithergue48   24   Male       92   \n",
       "3            3  Chamassasya86   24   Male      100   \n",
       "4            4      Iskosia90   23   Male      131   \n",
       "\n",
       "                                   Item Name  Price Age Summary  \n",
       "0  Extraction, Quickblade Of Trembling Hands   3.53       20-24  \n",
       "1                          Frenzied Scimitar   1.56         40+  \n",
       "2                               Final Critic   4.88       20-24  \n",
       "3                                Blindscythe   3.27       20-24  \n",
       "4                                       Fury   1.44       20-24  "
      ]
     },
     "execution_count": 22,
     "metadata": {},
     "output_type": "execute_result"
    }
   ],
   "source": [
    "# Second, create the bins in which Data will be held\n",
    "bins = [0, 9, 14, 19, 24, 29, 34, 39, 50]\n",
    "\n",
    "# Create the names for the five bins\n",
    "group_names = [\"<10\", \"10-14\", \"15-19\", \"20-24\", \"25-29\",\"30-34\",\"35-49\",\"40+\"]\n",
    "\n",
    "# check whether the bin is successfully created\n",
    "purchase_data[\"Age Summary\"] = pd.cut(purchase_data[\"Age\"], bins, labels = group_names)\n",
    "purchase_data.head()"
   ]
  },
  {
   "cell_type": "code",
   "execution_count": 23,
   "metadata": {},
   "outputs": [
    {
     "data": {
      "text/plain": [
       "Age Summary\n",
       "<10       17\n",
       "10-14     22\n",
       "15-19    107\n",
       "20-24    258\n",
       "25-29     77\n",
       "30-34     52\n",
       "35-49     31\n",
       "40+       12\n",
       "Name: SN, dtype: int64"
      ]
     },
     "execution_count": 23,
     "metadata": {},
     "output_type": "execute_result"
    }
   ],
   "source": [
    "# Second, I need to group the data with the age bins\n",
    "purchase_age_group = purchase_data.groupby([\"Age Summary\"])\n",
    "\n",
    "### Note, there is a repeated age, and I only need the unique name\n",
    "########### and return number of unique elements in the group##################\n",
    "age_count = purchase_age_group[\"SN\"].nunique()\n",
    "age_count"
   ]
  },
  {
   "cell_type": "code",
   "execution_count": 24,
   "metadata": {},
   "outputs": [
    {
     "data": {
      "text/plain": [
       "Age Summary\n",
       "<10       2.951389\n",
       "10-14     3.819444\n",
       "15-19    18.576389\n",
       "20-24    44.791667\n",
       "25-29    13.368056\n",
       "30-34     9.027778\n",
       "35-49     5.381944\n",
       "40+       2.083333\n",
       "Name: SN, dtype: float64"
      ]
     },
     "execution_count": 24,
     "metadata": {},
     "output_type": "execute_result"
    }
   ],
   "source": [
    "### Third, count the players in each age slot\n",
    "age_perc = age_count/totalPlayers*100\n",
    "age_perc"
   ]
  },
  {
   "cell_type": "code",
   "execution_count": 25,
   "metadata": {},
   "outputs": [
    {
     "data": {
      "text/html": [
       "<div>\n",
       "<style scoped>\n",
       "    .dataframe tbody tr th:only-of-type {\n",
       "        vertical-align: middle;\n",
       "    }\n",
       "\n",
       "    .dataframe tbody tr th {\n",
       "        vertical-align: top;\n",
       "    }\n",
       "\n",
       "    .dataframe thead th {\n",
       "        text-align: right;\n",
       "    }\n",
       "</style>\n",
       "<table border=\"1\" class=\"dataframe\">\n",
       "  <thead>\n",
       "    <tr style=\"text-align: right;\">\n",
       "      <th></th>\n",
       "      <th>Total Count</th>\n",
       "      <th>Percentage of Players</th>\n",
       "    </tr>\n",
       "    <tr>\n",
       "      <th>Age Summary</th>\n",
       "      <th></th>\n",
       "      <th></th>\n",
       "    </tr>\n",
       "  </thead>\n",
       "  <tbody>\n",
       "    <tr>\n",
       "      <th>&lt;10</th>\n",
       "      <td>17</td>\n",
       "      <td>2.95</td>\n",
       "    </tr>\n",
       "    <tr>\n",
       "      <th>10-14</th>\n",
       "      <td>22</td>\n",
       "      <td>3.82</td>\n",
       "    </tr>\n",
       "    <tr>\n",
       "      <th>15-19</th>\n",
       "      <td>107</td>\n",
       "      <td>18.58</td>\n",
       "    </tr>\n",
       "    <tr>\n",
       "      <th>20-24</th>\n",
       "      <td>258</td>\n",
       "      <td>44.79</td>\n",
       "    </tr>\n",
       "    <tr>\n",
       "      <th>25-29</th>\n",
       "      <td>77</td>\n",
       "      <td>13.37</td>\n",
       "    </tr>\n",
       "    <tr>\n",
       "      <th>30-34</th>\n",
       "      <td>52</td>\n",
       "      <td>9.03</td>\n",
       "    </tr>\n",
       "    <tr>\n",
       "      <th>35-49</th>\n",
       "      <td>31</td>\n",
       "      <td>5.38</td>\n",
       "    </tr>\n",
       "    <tr>\n",
       "      <th>40+</th>\n",
       "      <td>12</td>\n",
       "      <td>2.08</td>\n",
       "    </tr>\n",
       "  </tbody>\n",
       "</table>\n",
       "</div>"
      ],
      "text/plain": [
       "             Total Count Percentage of Players\n",
       "Age Summary                                   \n",
       "<10                   17                  2.95\n",
       "10-14                 22                  3.82\n",
       "15-19                107                 18.58\n",
       "20-24                258                 44.79\n",
       "25-29                 77                 13.37\n",
       "30-34                 52                  9.03\n",
       "35-49                 31                  5.38\n",
       "40+                   12                  2.08"
      ]
     },
     "execution_count": 25,
     "metadata": {},
     "output_type": "execute_result"
    }
   ],
   "source": [
    "# Fourth, creating a new DataFrame using both age count and percentage\n",
    "age_summary_table = pd.DataFrame({\"Total Count\": age_count,\n",
    "                                  \"Percentage of Players\": age_perc})\n",
    "### and then, fomat the columns\n",
    "age_summary_table[\"Percentage of Players\"] = age_summary_table[\"Percentage of Players\"].map('{:,.2f}'.format)\n",
    "age_summary_table"
   ]
  },
  {
   "cell_type": "markdown",
   "metadata": {},
   "source": [
    "## Purchasing Analysis (Age)"
   ]
  },
  {
   "cell_type": "markdown",
   "metadata": {},
   "source": [
    "* Bin the purchase_data data frame by age\n",
    "\n",
    "\n",
    "* Run basic calculations to obtain purchase count, avg. purchase price, avg. purchase total per person etc. in the table below\n",
    "\n",
    "\n",
    "* Create a summary data frame to hold the results\n",
    "\n",
    "\n",
    "* Optional: give the displayed data cleaner formatting\n",
    "\n",
    "\n",
    "* Display the summary data frame"
   ]
  },
  {
   "cell_type": "code",
   "execution_count": 26,
   "metadata": {},
   "outputs": [
    {
     "data": {
      "text/plain": [
       "Age Summary\n",
       "<10       23\n",
       "10-14     28\n",
       "15-19    136\n",
       "20-24    365\n",
       "25-29    101\n",
       "30-34     73\n",
       "35-49     41\n",
       "40+       13\n",
       "Name: Purchase ID, dtype: int64"
      ]
     },
     "execution_count": 26,
     "metadata": {},
     "output_type": "execute_result"
    }
   ],
   "source": [
    "# First, I will reuse the bins that I create above\n",
    "purchase_age_group = purchase_data.groupby([\"Age Summary\"])\n",
    "\n",
    "### I will also do the count\n",
    "#### Note: repeat SN is allowed################\n",
    "purchase_age_count = purchase_age_group[\"Purchase ID\"].count()\n",
    "purchase_age_count"
   ]
  },
  {
   "cell_type": "code",
   "execution_count": 27,
   "metadata": {},
   "outputs": [
    {
     "data": {
      "text/plain": [
       "Age Summary\n",
       "<10      3.353478\n",
       "10-14    2.956429\n",
       "15-19    3.035956\n",
       "20-24    3.052219\n",
       "25-29    2.900990\n",
       "30-34    2.931507\n",
       "35-49    3.601707\n",
       "40+      2.941538\n",
       "Name: Price, dtype: float64"
      ]
     },
     "execution_count": 27,
     "metadata": {},
     "output_type": "execute_result"
    }
   ],
   "source": [
    "### Second, I will also do the average\n",
    "purchase_age_average_price = purchase_age_group[\"Price\"].mean()\n",
    "purchase_age_average_price"
   ]
  },
  {
   "cell_type": "code",
   "execution_count": 28,
   "metadata": {},
   "outputs": [
    {
     "data": {
      "text/plain": [
       "Age Summary\n",
       "<10        77.13\n",
       "10-14      82.78\n",
       "15-19     412.89\n",
       "20-24    1114.06\n",
       "25-29     293.00\n",
       "30-34     214.00\n",
       "35-49     147.67\n",
       "40+        38.24\n",
       "Name: Price, dtype: float64"
      ]
     },
     "execution_count": 28,
     "metadata": {},
     "output_type": "execute_result"
    }
   ],
   "source": [
    "### Third, I will also do total purchase value\n",
    "purchase_age_total_value = purchase_age_group[\"Price\"].sum()\n",
    "purchase_age_total_value"
   ]
  },
  {
   "cell_type": "code",
   "execution_count": 29,
   "metadata": {},
   "outputs": [
    {
     "data": {
      "text/plain": [
       "Age Summary\n",
       "<10      4.537059\n",
       "10-14    3.762727\n",
       "15-19    3.858785\n",
       "20-24    4.318062\n",
       "25-29    3.805195\n",
       "30-34    4.115385\n",
       "35-49    4.763548\n",
       "40+      3.186667\n",
       "dtype: float64"
      ]
     },
     "execution_count": 29,
     "metadata": {},
     "output_type": "execute_result"
    }
   ],
   "source": [
    "### Fourth, I will also do the average person\n",
    "####### repeatibility is NOT allowed here\n",
    "purchase_age_average_person = purchase_age_group[\"Price\"].sum()/age_count\n",
    "purchase_age_average_person"
   ]
  },
  {
   "cell_type": "code",
   "execution_count": 30,
   "metadata": {},
   "outputs": [
    {
     "data": {
      "text/html": [
       "<div>\n",
       "<style scoped>\n",
       "    .dataframe tbody tr th:only-of-type {\n",
       "        vertical-align: middle;\n",
       "    }\n",
       "\n",
       "    .dataframe tbody tr th {\n",
       "        vertical-align: top;\n",
       "    }\n",
       "\n",
       "    .dataframe thead th {\n",
       "        text-align: right;\n",
       "    }\n",
       "</style>\n",
       "<table border=\"1\" class=\"dataframe\">\n",
       "  <thead>\n",
       "    <tr style=\"text-align: right;\">\n",
       "      <th></th>\n",
       "      <th>Purchase Count</th>\n",
       "      <th>Average Purchase Price</th>\n",
       "      <th>Total Purchases Value</th>\n",
       "      <th>Average Total Purchase per Person</th>\n",
       "    </tr>\n",
       "    <tr>\n",
       "      <th>Age Summary</th>\n",
       "      <th></th>\n",
       "      <th></th>\n",
       "      <th></th>\n",
       "      <th></th>\n",
       "    </tr>\n",
       "  </thead>\n",
       "  <tbody>\n",
       "    <tr>\n",
       "      <th>&lt;10</th>\n",
       "      <td>23</td>\n",
       "      <td>$3.35</td>\n",
       "      <td>$77.13</td>\n",
       "      <td>$4.54</td>\n",
       "    </tr>\n",
       "    <tr>\n",
       "      <th>10-14</th>\n",
       "      <td>28</td>\n",
       "      <td>$2.96</td>\n",
       "      <td>$82.78</td>\n",
       "      <td>$3.76</td>\n",
       "    </tr>\n",
       "    <tr>\n",
       "      <th>15-19</th>\n",
       "      <td>136</td>\n",
       "      <td>$3.04</td>\n",
       "      <td>$412.89</td>\n",
       "      <td>$3.86</td>\n",
       "    </tr>\n",
       "    <tr>\n",
       "      <th>20-24</th>\n",
       "      <td>365</td>\n",
       "      <td>$3.05</td>\n",
       "      <td>$1,114.06</td>\n",
       "      <td>$4.32</td>\n",
       "    </tr>\n",
       "    <tr>\n",
       "      <th>25-29</th>\n",
       "      <td>101</td>\n",
       "      <td>$2.90</td>\n",
       "      <td>$293.00</td>\n",
       "      <td>$3.81</td>\n",
       "    </tr>\n",
       "    <tr>\n",
       "      <th>30-34</th>\n",
       "      <td>73</td>\n",
       "      <td>$2.93</td>\n",
       "      <td>$214.00</td>\n",
       "      <td>$4.12</td>\n",
       "    </tr>\n",
       "    <tr>\n",
       "      <th>35-49</th>\n",
       "      <td>41</td>\n",
       "      <td>$3.60</td>\n",
       "      <td>$147.67</td>\n",
       "      <td>$4.76</td>\n",
       "    </tr>\n",
       "    <tr>\n",
       "      <th>40+</th>\n",
       "      <td>13</td>\n",
       "      <td>$2.94</td>\n",
       "      <td>$38.24</td>\n",
       "      <td>$3.19</td>\n",
       "    </tr>\n",
       "  </tbody>\n",
       "</table>\n",
       "</div>"
      ],
      "text/plain": [
       "             Purchase Count Average Purchase Price Total Purchases Value  \\\n",
       "Age Summary                                                                \n",
       "<10                      23                  $3.35                $77.13   \n",
       "10-14                    28                  $2.96                $82.78   \n",
       "15-19                   136                  $3.04               $412.89   \n",
       "20-24                   365                  $3.05             $1,114.06   \n",
       "25-29                   101                  $2.90               $293.00   \n",
       "30-34                    73                  $2.93               $214.00   \n",
       "35-49                    41                  $3.60               $147.67   \n",
       "40+                      13                  $2.94                $38.24   \n",
       "\n",
       "            Average Total Purchase per Person  \n",
       "Age Summary                                    \n",
       "<10                                     $4.54  \n",
       "10-14                                   $3.76  \n",
       "15-19                                   $3.86  \n",
       "20-24                                   $4.32  \n",
       "25-29                                   $3.81  \n",
       "30-34                                   $4.12  \n",
       "35-49                                   $4.76  \n",
       "40+                                     $3.19  "
      ]
     },
     "execution_count": 30,
     "metadata": {},
     "output_type": "execute_result"
    }
   ],
   "source": [
    "## finally, place all of the data found into a summary DataFrame\n",
    "PurchaseByAgeAnalysis = pd.DataFrame({\"Purchase Count\": purchase_age_count,\n",
    "                                      \"Average Purchase Price\" : purchase_age_average_price,\n",
    "                                      \"Total Purchases Value\" : purchase_age_total_value,\n",
    "                                      \"Average Total Purchase per Person\" : purchase_age_average_person})\n",
    "### and then, fomat the columns\n",
    "PurchaseByAgeAnalysis[\"Average Purchase Price\"] = PurchaseByAgeAnalysis[\"Average Purchase Price\"].map('${:,.2f}'.format)\n",
    "PurchaseByAgeAnalysis[\"Total Purchases Value\"] = PurchaseByAgeAnalysis[\"Total Purchases Value\"].map('${:,.2f}'.format)\n",
    "PurchaseByAgeAnalysis[\"Average Total Purchase per Person\"] = PurchaseByAgeAnalysis[\"Average Total Purchase per Person\"].map('${:,.2f}'.format)\n",
    "\n",
    "PurchaseByAgeAnalysis = PurchaseByAgeAnalysis.sort_index(ascending = True)\n",
    "PurchaseByAgeAnalysis"
   ]
  },
  {
   "cell_type": "markdown",
   "metadata": {},
   "source": [
    "## Top Spenders"
   ]
  },
  {
   "cell_type": "markdown",
   "metadata": {},
   "source": [
    "* Run basic calculations to obtain the results in the table below\n",
    "\n",
    "\n",
    "* Create a summary data frame to hold the results\n",
    "\n",
    "\n",
    "* Sort the total purchase value column in descending order\n",
    "\n",
    "\n",
    "* Optional: give the displayed data cleaner formatting\n",
    "\n",
    "\n",
    "* Display a preview of the summary data frame\n",
    "\n"
   ]
  },
  {
   "cell_type": "code",
   "execution_count": 31,
   "metadata": {},
   "outputs": [
    {
     "data": {
      "text/plain": [
       "SN\n",
       "Adairialis76    1\n",
       "Adastirin33     1\n",
       "Aeda94          1\n",
       "Aela59          1\n",
       "Aelaria33       1\n",
       "Name: SN, dtype: int64"
      ]
     },
     "execution_count": 31,
     "metadata": {},
     "output_type": "execute_result"
    }
   ],
   "source": [
    "### first, count the unique SN \n",
    "spender_grouped = purchase_data.groupby([\"SN\"])\n",
    "\n",
    "# and count repeated SN\n",
    "purchase_SN_count = spender_grouped[\"SN\"].count()\n",
    "purchase_SN_count.head()"
   ]
  },
  {
   "cell_type": "code",
   "execution_count": 32,
   "metadata": {},
   "outputs": [
    {
     "data": {
      "text/plain": [
       "SN\n",
       "Adairialis76    2.28\n",
       "Adastirin33     4.48\n",
       "Aeda94          4.91\n",
       "Aela59          4.32\n",
       "Aelaria33       1.79\n",
       "Name: Price, dtype: float64"
      ]
     },
     "execution_count": 32,
     "metadata": {},
     "output_type": "execute_result"
    }
   ],
   "source": [
    "# Second, calculate the average price \n",
    "average_SN_price = spender_grouped[\"Price\"].mean()\n",
    "average_SN_price.head()"
   ]
  },
  {
   "cell_type": "code",
   "execution_count": 33,
   "metadata": {},
   "outputs": [
    {
     "data": {
      "text/plain": [
       "SN\n",
       "Adairialis76    2.28\n",
       "Adastirin33     4.48\n",
       "Aeda94          4.91\n",
       "Aela59          4.32\n",
       "Aelaria33       1.79\n",
       "Name: Price, dtype: float64"
      ]
     },
     "execution_count": 33,
     "metadata": {},
     "output_type": "execute_result"
    }
   ],
   "source": [
    "# Third, calculate the total purchase\n",
    "purchase_SN_total_value = spender_grouped[\"Price\"].sum()\n",
    "purchase_SN_total_value.head()"
   ]
  },
  {
   "cell_type": "code",
   "execution_count": 34,
   "metadata": {},
   "outputs": [
    {
     "data": {
      "text/html": [
       "<div>\n",
       "<style scoped>\n",
       "    .dataframe tbody tr th:only-of-type {\n",
       "        vertical-align: middle;\n",
       "    }\n",
       "\n",
       "    .dataframe tbody tr th {\n",
       "        vertical-align: top;\n",
       "    }\n",
       "\n",
       "    .dataframe thead th {\n",
       "        text-align: right;\n",
       "    }\n",
       "</style>\n",
       "<table border=\"1\" class=\"dataframe\">\n",
       "  <thead>\n",
       "    <tr style=\"text-align: right;\">\n",
       "      <th></th>\n",
       "      <th>Purchase Count</th>\n",
       "      <th>Average Purchase Price</th>\n",
       "      <th>Total Purchases Value</th>\n",
       "    </tr>\n",
       "    <tr>\n",
       "      <th>SN</th>\n",
       "      <th></th>\n",
       "      <th></th>\n",
       "      <th></th>\n",
       "    </tr>\n",
       "  </thead>\n",
       "  <tbody>\n",
       "    <tr>\n",
       "      <th>Lisosia93</th>\n",
       "      <td>5</td>\n",
       "      <td>$3.79</td>\n",
       "      <td>$18.96</td>\n",
       "    </tr>\n",
       "    <tr>\n",
       "      <th>Iral74</th>\n",
       "      <td>4</td>\n",
       "      <td>$3.40</td>\n",
       "      <td>$13.62</td>\n",
       "    </tr>\n",
       "    <tr>\n",
       "      <th>Idastidru52</th>\n",
       "      <td>4</td>\n",
       "      <td>$3.86</td>\n",
       "      <td>$15.45</td>\n",
       "    </tr>\n",
       "    <tr>\n",
       "      <th>Asur53</th>\n",
       "      <td>3</td>\n",
       "      <td>$2.48</td>\n",
       "      <td>$7.44</td>\n",
       "    </tr>\n",
       "    <tr>\n",
       "      <th>Inguron55</th>\n",
       "      <td>3</td>\n",
       "      <td>$3.70</td>\n",
       "      <td>$11.11</td>\n",
       "    </tr>\n",
       "  </tbody>\n",
       "</table>\n",
       "</div>"
      ],
      "text/plain": [
       "             Purchase Count Average Purchase Price Total Purchases Value\n",
       "SN                                                                      \n",
       "Lisosia93                 5                  $3.79                $18.96\n",
       "Iral74                    4                  $3.40                $13.62\n",
       "Idastidru52               4                  $3.86                $15.45\n",
       "Asur53                    3                  $2.48                 $7.44\n",
       "Inguron55                 3                  $3.70                $11.11"
      ]
     },
     "execution_count": 34,
     "metadata": {},
     "output_type": "execute_result"
    }
   ],
   "source": [
    "## finally, place all of the data found into a summary DataFrame\n",
    "PurchaseBySNAnalysis = pd.DataFrame({\"Purchase Count\": purchase_SN_count,\n",
    "                                      \"Average Purchase Price\" : average_SN_price,\n",
    "                                      \"Total Purchases Value\" : purchase_SN_total_value})\n",
    "### and then, fomat the columns\n",
    "PurchaseBySNAnalysis[\"Average Purchase Price\"] = PurchaseBySNAnalysis[\"Average Purchase Price\"].map('${:,.2f}'.format)\n",
    "PurchaseBySNAnalysis[\"Total Purchases Value\"] = PurchaseBySNAnalysis[\"Total Purchases Value\"].map('${:,.2f}'.format)\n",
    "\n",
    "PurchaseBySNAnalysis = PurchaseBySNAnalysis.sort_values([\"Purchase Count\"], ascending = False)\n",
    "PurchaseBySNAnalysis.head()"
   ]
  },
  {
   "cell_type": "markdown",
   "metadata": {},
   "source": [
    "## Most Popular Items"
   ]
  },
  {
   "cell_type": "markdown",
   "metadata": {},
   "source": [
    "* Retrieve the Item ID, Item Name, and Item Price columns\n",
    "\n",
    "\n",
    "* Group by Item ID and Item Name. Perform calculations to obtain purchase count, item price, and total purchase value\n",
    "\n",
    "\n",
    "* Create a summary data frame to hold the results\n",
    "\n",
    "\n",
    "* Sort the purchase count column in descending order\n",
    "\n",
    "\n",
    "* Optional: give the displayed data cleaner formatting\n",
    "\n",
    "\n",
    "* Display a preview of the summary data frame\n",
    "\n"
   ]
  },
  {
   "cell_type": "code",
   "execution_count": 35,
   "metadata": {},
   "outputs": [
    {
     "data": {
      "text/plain": [
       "Item ID\n",
       "178    12\n",
       "82      9\n",
       "108     9\n",
       "145     9\n",
       "92      8\n",
       "Name: SN, dtype: int64"
      ]
     },
     "execution_count": 35,
     "metadata": {},
     "output_type": "execute_result"
    }
   ],
   "source": [
    "### first, count the unique Item ID \n",
    "purchaseID_grouped = purchase_data.groupby([\"Item ID\"])\n",
    "\n",
    "# and count repeated ID\n",
    "purchase_ID_count = purchaseID_grouped[\"SN\"].nunique()\n",
    "purchase_ID_count.sort_values(ascending = False).head()"
   ]
  },
  {
   "cell_type": "code",
   "execution_count": 36,
   "metadata": {},
   "outputs": [
    {
     "data": {
      "text/plain": [
       "Item ID\n",
       "0              [Splinter]\n",
       "1              [Crucifer]\n",
       "2               [Verdict]\n",
       "3          [Phantomlight]\n",
       "4    [Bloodlord's Fetish]\n",
       "Name: Item Name, dtype: object"
      ]
     },
     "execution_count": 36,
     "metadata": {},
     "output_type": "execute_result"
    }
   ],
   "source": [
    "### second, list the unique Item name\n",
    "purchaseID_grouped = purchase_data.groupby([\"Item ID\"])\n",
    "\n",
    "purchase_ID_name = purchaseID_grouped[\"Item Name\"].unique()\n",
    "purchase_ID_name.head()"
   ]
  },
  {
   "cell_type": "code",
   "execution_count": 37,
   "metadata": {},
   "outputs": [
    {
     "data": {
      "text/plain": [
       "Item ID\n",
       "63     4.99\n",
       "139    4.94\n",
       "147    4.93\n",
       "173    4.93\n",
       "128    4.91\n",
       "Name: Price, dtype: float64"
      ]
     },
     "execution_count": 37,
     "metadata": {},
     "output_type": "execute_result"
    }
   ],
   "source": [
    "# Second, count Item Price\n",
    "purchase_ID_price = purchaseID_grouped[\"Price\"].mean()\n",
    "purchase_ID_price.sort_values(ascending = False).head()"
   ]
  },
  {
   "cell_type": "code",
   "execution_count": 38,
   "metadata": {},
   "outputs": [
    {
     "data": {
      "text/plain": [
       "Item ID\n",
       "178    50.76\n",
       "82     44.10\n",
       "145    41.22\n",
       "92     39.04\n",
       "103    34.80\n",
       "dtype: float64"
      ]
     },
     "execution_count": 38,
     "metadata": {},
     "output_type": "execute_result"
    }
   ],
   "source": [
    "# Third, count total value\n",
    "purchase_ID_total_value = purchase_ID_count * purchase_ID_price\n",
    "purchase_ID_total_value.sort_values(ascending = False).head()"
   ]
  },
  {
   "cell_type": "code",
   "execution_count": 45,
   "metadata": {},
   "outputs": [
    {
     "data": {
      "text/html": [
       "<div>\n",
       "<style scoped>\n",
       "    .dataframe tbody tr th:only-of-type {\n",
       "        vertical-align: middle;\n",
       "    }\n",
       "\n",
       "    .dataframe tbody tr th {\n",
       "        vertical-align: top;\n",
       "    }\n",
       "\n",
       "    .dataframe thead th {\n",
       "        text-align: right;\n",
       "    }\n",
       "</style>\n",
       "<table border=\"1\" class=\"dataframe\">\n",
       "  <thead>\n",
       "    <tr style=\"text-align: right;\">\n",
       "      <th></th>\n",
       "      <th>Item Name</th>\n",
       "      <th>Purchase Count</th>\n",
       "      <th>Item Price</th>\n",
       "      <th>Total Purchases Value</th>\n",
       "    </tr>\n",
       "    <tr>\n",
       "      <th>Item ID</th>\n",
       "      <th></th>\n",
       "      <th></th>\n",
       "      <th></th>\n",
       "      <th></th>\n",
       "    </tr>\n",
       "  </thead>\n",
       "  <tbody>\n",
       "    <tr>\n",
       "      <th>178</th>\n",
       "      <td>[Oathbreaker, Last Hope of the Breaking Storm]</td>\n",
       "      <td>12</td>\n",
       "      <td>$4.23</td>\n",
       "      <td>$50.76</td>\n",
       "    </tr>\n",
       "    <tr>\n",
       "      <th>145</th>\n",
       "      <td>[Fiery Glass Crusader]</td>\n",
       "      <td>9</td>\n",
       "      <td>$4.58</td>\n",
       "      <td>$41.22</td>\n",
       "    </tr>\n",
       "    <tr>\n",
       "      <th>108</th>\n",
       "      <td>[Extraction, Quickblade Of Trembling Hands]</td>\n",
       "      <td>9</td>\n",
       "      <td>$3.53</td>\n",
       "      <td>$31.77</td>\n",
       "    </tr>\n",
       "    <tr>\n",
       "      <th>82</th>\n",
       "      <td>[Nirvana]</td>\n",
       "      <td>9</td>\n",
       "      <td>$4.90</td>\n",
       "      <td>$44.10</td>\n",
       "    </tr>\n",
       "    <tr>\n",
       "      <th>19</th>\n",
       "      <td>[Pursuit, Cudgel of Necromancy]</td>\n",
       "      <td>8</td>\n",
       "      <td>$1.02</td>\n",
       "      <td>$8.16</td>\n",
       "    </tr>\n",
       "  </tbody>\n",
       "</table>\n",
       "</div>"
      ],
      "text/plain": [
       "                                              Item Name  Purchase Count  \\\n",
       "Item ID                                                                   \n",
       "178      [Oathbreaker, Last Hope of the Breaking Storm]              12   \n",
       "145                              [Fiery Glass Crusader]               9   \n",
       "108         [Extraction, Quickblade Of Trembling Hands]               9   \n",
       "82                                            [Nirvana]               9   \n",
       "19                      [Pursuit, Cudgel of Necromancy]               8   \n",
       "\n",
       "        Item Price Total Purchases Value  \n",
       "Item ID                                   \n",
       "178          $4.23                $50.76  \n",
       "145          $4.58                $41.22  \n",
       "108          $3.53                $31.77  \n",
       "82           $4.90                $44.10  \n",
       "19           $1.02                 $8.16  "
      ]
     },
     "execution_count": 45,
     "metadata": {},
     "output_type": "execute_result"
    }
   ],
   "source": [
    "## finally, place all of the data found into a summary DataFrame\n",
    "PurchaseByIDAnalysis = pd.DataFrame({\"Item Name\": purchase_ID_name,\n",
    "                                     \"Purchase Count\": purchase_ID_count,\n",
    "                                      \"Item Price\" : purchase_ID_price,\n",
    "                                      \"Total Purchases Value\" : purchase_ID_total_value})\n",
    "\n",
    "PurchaseByIDAnalysis1 = PurchaseByIDAnalysis.sort_values([\"Purchase Count\"], ascending = False)\n",
    "\n",
    "### and then, fomat the columns\n",
    "PurchaseByIDAnalysis1[\"Item Price\"] = PurchaseByIDAnalysis1[\"Item Price\"].map('${:,.2f}'.format)\n",
    "PurchaseByIDAnalysis1[\"Total Purchases Value\"] = PurchaseByIDAnalysis1[\"Total Purchases Value\"].map('${:,.2f}'.format)\n",
    "PurchaseByIDAnalysis1.head()"
   ]
  },
  {
   "cell_type": "markdown",
   "metadata": {},
   "source": [
    "## Most Profitable Items"
   ]
  },
  {
   "cell_type": "markdown",
   "metadata": {},
   "source": [
    "* Sort the above table by total purchase value in descending order\n",
    "\n",
    "\n",
    "* Optional: give the displayed data cleaner formatting\n",
    "\n",
    "\n",
    "* Display a preview of the data frame\n",
    "\n"
   ]
  },
  {
   "cell_type": "code",
   "execution_count": 44,
   "metadata": {
    "scrolled": true
   },
   "outputs": [
    {
     "data": {
      "text/html": [
       "<div>\n",
       "<style scoped>\n",
       "    .dataframe tbody tr th:only-of-type {\n",
       "        vertical-align: middle;\n",
       "    }\n",
       "\n",
       "    .dataframe tbody tr th {\n",
       "        vertical-align: top;\n",
       "    }\n",
       "\n",
       "    .dataframe thead th {\n",
       "        text-align: right;\n",
       "    }\n",
       "</style>\n",
       "<table border=\"1\" class=\"dataframe\">\n",
       "  <thead>\n",
       "    <tr style=\"text-align: right;\">\n",
       "      <th></th>\n",
       "      <th>Item Name</th>\n",
       "      <th>Purchase Count</th>\n",
       "      <th>Item Price</th>\n",
       "      <th>Total Purchases Value</th>\n",
       "    </tr>\n",
       "    <tr>\n",
       "      <th>Item ID</th>\n",
       "      <th></th>\n",
       "      <th></th>\n",
       "      <th></th>\n",
       "      <th></th>\n",
       "    </tr>\n",
       "  </thead>\n",
       "  <tbody>\n",
       "    <tr>\n",
       "      <th>178</th>\n",
       "      <td>[Oathbreaker, Last Hope of the Breaking Storm]</td>\n",
       "      <td>12</td>\n",
       "      <td>$4.23</td>\n",
       "      <td>$50.76</td>\n",
       "    </tr>\n",
       "    <tr>\n",
       "      <th>82</th>\n",
       "      <td>[Nirvana]</td>\n",
       "      <td>9</td>\n",
       "      <td>$4.90</td>\n",
       "      <td>$44.10</td>\n",
       "    </tr>\n",
       "    <tr>\n",
       "      <th>145</th>\n",
       "      <td>[Fiery Glass Crusader]</td>\n",
       "      <td>9</td>\n",
       "      <td>$4.58</td>\n",
       "      <td>$41.22</td>\n",
       "    </tr>\n",
       "    <tr>\n",
       "      <th>92</th>\n",
       "      <td>[Final Critic]</td>\n",
       "      <td>8</td>\n",
       "      <td>$4.88</td>\n",
       "      <td>$39.04</td>\n",
       "    </tr>\n",
       "    <tr>\n",
       "      <th>103</th>\n",
       "      <td>[Singed Scalpel]</td>\n",
       "      <td>8</td>\n",
       "      <td>$4.35</td>\n",
       "      <td>$34.80</td>\n",
       "    </tr>\n",
       "  </tbody>\n",
       "</table>\n",
       "</div>"
      ],
      "text/plain": [
       "                                              Item Name  Purchase Count  \\\n",
       "Item ID                                                                   \n",
       "178      [Oathbreaker, Last Hope of the Breaking Storm]              12   \n",
       "82                                            [Nirvana]               9   \n",
       "145                              [Fiery Glass Crusader]               9   \n",
       "92                                       [Final Critic]               8   \n",
       "103                                    [Singed Scalpel]               8   \n",
       "\n",
       "        Item Price Total Purchases Value  \n",
       "Item ID                                   \n",
       "178          $4.23                $50.76  \n",
       "82           $4.90                $44.10  \n",
       "145          $4.58                $41.22  \n",
       "92           $4.88                $39.04  \n",
       "103          $4.35                $34.80  "
      ]
     },
     "execution_count": 44,
     "metadata": {},
     "output_type": "execute_result"
    }
   ],
   "source": [
    "PurchaseByIDAnalysis2 = PurchaseByIDAnalysis.sort_values([\"Total Purchases Value\"], ascending = False)\n",
    "\n",
    "### and then, fomat the columns\n",
    "PurchaseByIDAnalysis2[\"Item Price\"] = PurchaseByIDAnalysis2[\"Item Price\"].map('${:,.2f}'.format)\n",
    "PurchaseByIDAnalysis2[\"Total Purchases Value\"] = PurchaseByIDAnalysis2[\"Total Purchases Value\"].map('${:,.2f}'.format)\n",
    "PurchaseByIDAnalysis2.head()"
   ]
  },
  {
   "cell_type": "code",
   "execution_count": null,
   "metadata": {},
   "outputs": [],
   "source": []
  }
 ],
 "metadata": {
  "anaconda-cloud": {},
  "kernel_info": {
   "name": "python3"
  },
  "kernelspec": {
   "display_name": "Python 3",
   "language": "python",
   "name": "python3"
  },
  "language_info": {
   "codemirror_mode": {
    "name": "ipython",
    "version": 3
   },
   "file_extension": ".py",
   "mimetype": "text/x-python",
   "name": "python",
   "nbconvert_exporter": "python",
   "pygments_lexer": "ipython3",
   "version": "3.7.0"
  },
  "nteract": {
   "version": "0.2.0"
  }
 },
 "nbformat": 4,
 "nbformat_minor": 2
}
